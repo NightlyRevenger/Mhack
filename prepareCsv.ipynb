{
 "cells": [
  {
   "cell_type": "code",
   "execution_count": null,
   "metadata": {},
   "outputs": [],
   "source": [
    "import osimport csvfrom sklearn.datasets import load_filesimport codecsdef countLines(file):row_count = sum(1 for row in file)return  row_countdef prepareFile(path):file = codecs.open(path, \"r\", encoding=\"utf8\")reader = csv.DictReader(file)rowCount = countLines(reader)rowCount = 0.8*rowCountreader = csv.DictReader(file)rootPath = \"otz\"if not os.path.exists(rootPath):os.mkdir(rootPath)rootPath = \"./\" + rootPath + \"/\"i = 0for row in reader:tmpFloat = float(row['reting'])tmpInt = round(tmpFloat)pathStr = str(tmpInt)if not os.path.exists(rootPath + pathStr):os.makedirs(rootPath + pathStr)f = open(rootPath + pathStr + \"/\" + str(i) + \".txt\", \"w\",encoding=\"utf8\")f.write(row['comment'] + \"\\n\")f.write(row['commentNegative'] + \"\\n\")f.write(row['commentPositive'])f.close()i = i + 1if i > rowCount:breakreturn load_files(rootPath, random_state=42)def createTest(path):file = codecs.open(path, \"r\", encoding=\"utf8\")reader = csv.DictReader(file)rowCount = countLines(reader)rowCount = 0.8 * rowCountreader = csv.DictReader(file)i = 0tstList = list()for row in reader:if i > rowCount:tmpFloat = float(row['reting'])tmpInt = round(tmpFloat)tmpstr = row['comment'] + \"\\n\"tmpstr = tmpstr + row['commentNegative'] + \"\\n\"tmpstr = tmpstr + row['commentPositive']tstList.append([tmpInt,tmpstr])i=i+1return tstList"
   ]
  }
 ],
 "metadata": {
  "language": "python"
 },
 "nbformat": 4,
 "nbformat_minor": 2
}
